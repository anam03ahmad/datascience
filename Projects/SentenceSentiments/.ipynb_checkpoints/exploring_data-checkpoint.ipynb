{
 "cells": [
  {
   "cell_type": "code",
   "execution_count": 12,
   "metadata": {},
   "outputs": [],
   "source": [
    "import pandas as pd\n",
    "import numpy as np"
   ]
  },
  {
   "cell_type": "code",
   "execution_count": null,
   "metadata": {},
   "outputs": [],
   "source": [
    "amazon_file = \"C:/Users/Anam/Documents/DataScience/Projects/SentenceSentiments/Data/sentiment_labelled_sentences/amazon_cells_labelled.txt\"\n",
    "amazon_df = pd.read_csv(amazon_file, sep='\\t', header = None, names = ['review','score'])\n",
    "\n",
    "imdb_file = \"C:/Users/Anam/Documents/DataScience/Projects/SentenceSentiments/Data/sentiment_labelled_sentences/imdb_labelled.txt\"\n",
    "imdb_df = pd.read_csv(imdb_file, sep='\\t', header = None, names = ['review','score'])\n",
    "\n",
    "yelp_file = \"C:/Users/Anam/Documents/DataScience/Projects/SentenceSentiments/Data/sentiment_labelled_sentences/yelp_labelled.txt\"\n",
    "yelp_df = pd.read_csv(yelp_file, sep='\\t', header = None, names = ['review','score'])\n",
    "\n",
    "reviews_scores_df = amazon_df.append([df2, df3])"
   ]
  },
  {
   "cell_type": "code",
   "execution_count": null,
   "metadata": {},
   "outputs": [],
   "source": [
    "imdb_file = \"C:/Users/Anam/Documents/DataScience/Projects/SentenceSentiments/Data/sentiment_labelled_sentences/imdb_labelled.txt\"\n",
    "imdb_df = pd.read_csv(imdb_file, sep='\\t', names = ['review','score'])\n",
    "\n",
    "yelp_file = \"C:/Users/Anam/Documents/DataScience/Projects/SentenceSentiments/Data/sentiment_labelled_sentences/yelp_labelled.txt\"\n",
    "yelp_df = pd.read_csv(yelp_file, sep='\\t', names = ['review','score'])"
   ]
  }
 ],
 "metadata": {
  "kernelspec": {
   "display_name": "Python 3",
   "language": "python",
   "name": "python3"
  },
  "language_info": {
   "codemirror_mode": {
    "name": "ipython",
    "version": 3
   },
   "file_extension": ".py",
   "mimetype": "text/x-python",
   "name": "python",
   "nbconvert_exporter": "python",
   "pygments_lexer": "ipython3",
   "version": "3.7.4"
  }
 },
 "nbformat": 4,
 "nbformat_minor": 2
}
