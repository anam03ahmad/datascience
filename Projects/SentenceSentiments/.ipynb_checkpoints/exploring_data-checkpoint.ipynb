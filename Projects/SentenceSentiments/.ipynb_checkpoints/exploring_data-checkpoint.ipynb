{
 "cells": [
  {
   "cell_type": "code",
   "execution_count": 15,
   "metadata": {},
   "outputs": [],
   "source": [
    "import pandas as pd\n",
    "import numpy as np\n",
    "import csv\n",
    "pd.options.mode.chained_assignment = None"
   ]
  },
  {
   "cell_type": "code",
   "execution_count": 16,
   "metadata": {},
   "outputs": [
    {
     "name": "stdout",
     "output_type": "stream",
     "text": [
      "Amazon records: 1000\n",
      "Imdb records: 748\n",
      "Yelp records: 1000\n"
     ]
    }
   ],
   "source": [
    "amazon_file = \"C:/Users/Anam/Documents/DataScience/datascience/Projects/SentenceSentiments/Data/sentiment_labelled_sentences/amazon_cells_labelled.txt\"\n",
    "amazon_df = pd.read_csv(amazon_file, sep='\\t', header = None, names = ['review','score'])\n",
    "amazon_df['origin'] = 'amazon'\n",
    "print(\"Amazon records: \" + str(len(amazon_df.index)))\n",
    "\n",
    "imdb_file = \"C:/Users/Anam/Documents/DataScience/datascience/Projects/SentenceSentiments/Data/sentiment_labelled_sentences/imdb_labelled.txt\"\n",
    "imdb_df = pd.read_csv(imdb_file, sep='\\t', header = None, names = ['review','score'])\n",
    "imdb_df['origin'] = 'imdb'\n",
    "print(\"Imdb records: \" + str(len(imdb_df.index)))\n",
    "\n",
    "yelp_file = \"C:/Users/Anam/Documents/DataScience/datascience/Projects/SentenceSentiments/Data/sentiment_labelled_sentences/yelp_labelled.txt\"\n",
    "yelp_df = pd.read_csv(yelp_file, sep='\\t', header = None, names = ['review','score'])\n",
    "yelp_df['origin'] = 'yelp'\n",
    "print(\"Yelp records: \" + str(len(yelp_df.index)))\n"
   ]
  },
  {
   "cell_type": "markdown",
   "metadata": {},
   "source": [
    "Right away we can see that IMDB file has a problem. By the description of the data, there should 1000 records in the IMDB file.I have my inputs into one dataframe. I am going to begin by shuffling it randomly (so samples are not grouped by origin of review) and check the shape. Next I am going to make sure we do not have any missing data."
   ]
  },
  {
   "cell_type": "code",
   "execution_count": 17,
   "metadata": {},
   "outputs": [
    {
     "name": "stdout",
     "output_type": "stream",
     "text": [
      "Imdb records: 1000\n"
     ]
    }
   ],
   "source": [
    "imdb_file = \"C:/Users/Anam/Documents/DataScience/datascience/Projects/SentenceSentiments/Data/sentiment_labelled_sentences/imdb_labelled.txt\"\n",
    "imdb_df = pd.read_csv(imdb_file, sep='\\t', header = None, names = ['review','score'], error_bad_lines=False, quoting=csv.QUOTE_NONE)\n",
    "imdb_df['origin'] = 'imdb'\n",
    "print(\"Imdb records: \" + str(len(imdb_df.index)))"
   ]
  },
  {
   "cell_type": "markdown",
   "metadata": {},
   "source": [
    "Seems like there's some bad data in there. I'll keep it for now, and do the clean up in the Data Wrangling step. "
   ]
  },
  {
   "cell_type": "code",
   "execution_count": 18,
   "metadata": {},
   "outputs": [],
   "source": [
    "reviews_scores_df = amazon_df.append([imdb_df, yelp_df])"
   ]
  },
  {
   "cell_type": "markdown",
   "metadata": {},
   "source": [
    "Now, I have my inputs into one dataframe. I am going to begin by shuffling it randomly (so samples are not grouped by origin of review) and check the shape. Next I am going to make sure we do not have any missing data."
   ]
  },
  {
   "cell_type": "code",
   "execution_count": 19,
   "metadata": {},
   "outputs": [
    {
     "name": "stdout",
     "output_type": "stream",
     "text": [
      "Shape of data\n",
      "(3000, 3)\n",
      "Shape of missing values\n",
      "(0, 3)\n"
     ]
    }
   ],
   "source": [
    "reviews_scores_df = reviews_scores_df.sample(frac=1)\n",
    "\n",
    "print(\"Shape of data\")\n",
    "print(reviews_scores_df.shape)\n",
    "print(\"Shape of missing values\")\n",
    "print(reviews_scores_df[reviews_scores_df.isnull().any(axis=1)].shape)"
   ]
  },
  {
   "cell_type": "markdown",
   "metadata": {},
   "source": [
    "The shape looks good now, and there are no missing values as expected. Now let's take a look at data for both positive (score=1) and negative (scroer=0) reviews.\n",
    "\n",
    "\n",
    "I am going to take a look at a sample of the records, and keep track of the length of reviews."
   ]
  },
  {
   "cell_type": "code",
   "execution_count": 26,
   "metadata": {},
   "outputs": [
    {
     "name": "stdout",
     "output_type": "stream",
     "text": [
      "                                                review  score  origin  \\\n",
      "529                       The bartender was also nice.      1    yelp   \n",
      "859  The best scene in the movie is at the end, but...      1    imdb   \n",
      "351          Works like a charm.. Works as advertised.      1  amazon   \n",
      "304  Everything worked on the first try.The device ...      1  amazon   \n",
      "533  add betty white and jean smart and you have a ...      1    imdb   \n",
      "\n",
      "     review_len  \n",
      "529           5  \n",
      "859          15  \n",
      "351           7  \n",
      "304          19  \n",
      "533          19  \n",
      "                                                review  score  origin  \\\n",
      "628  Case was more or less an extra that I original...      0  amazon   \n",
      "957            The real disappointment was our waiter.      0    yelp   \n",
      "839  I have bought this Nokia cell phone a few week...      0  amazon   \n",
      "849               It's like a bad two hour TV movie.        0    imdb   \n",
      "444  Bela Lugosi was totally extraneous, intoning o...      0    imdb   \n",
      "\n",
      "     review_len  \n",
      "628          20  \n",
      "957           6  \n",
      "839          16  \n",
      "849           8  \n",
      "444           8  \n"
     ]
    }
   ],
   "source": [
    "reviews_scores_df['review_len'] = reviews_scores_df['review'].transform(lambda x: len(x.split()))\n",
    "\n",
    "pos_reviews = reviews_scores_df.loc[reviews_scores_df['score'] == 1]\n",
    "print(pos_reviews.head())\n",
    "\n",
    "neg_reviews = reviews_scores_df.loc[reviews_scores_df['score'] == 0]\n",
    "print(neg_reviews.head())"
   ]
  },
  {
   "cell_type": "markdown",
   "metadata": {},
   "source": [
    "I want to know that in these cases, do people leave longer or shorter reviews when they are positive, or if the length is more or less deverse than negative reviews. If there is a pattern emerging from, this it can possibly be used as a featrue when I do Feature Engineering later on. I am also going to use matplotlib to visually graph the data.\n",
    "\n",
    "Mean - The average lenth (but it can be skewed due to outliers)\n",
    "Median - The middle most lenght\n",
    "Standard deviation - To determine outliers (more than 2 std deviations away)"
   ]
  },
  {
   "cell_type": "code",
   "execution_count": 36,
   "metadata": {},
   "outputs": [
    {
     "name": "stdout",
     "output_type": "stream",
     "text": [
      "The average length of positive review:\n",
      "11.777333333333333\n",
      "The median length of positive review:\n",
      "10.0\n",
      "The mode length of positive review:\n",
      "ModeResult(mode=array([4], dtype=int64), count=array([118]))\n"
     ]
    }
   ],
   "source": [
    "from scipy import stats\n",
    "\n",
    "print(\"The average length of positive review:\")\n",
    "print(np.mean(pos_reviews['review_len']))\n",
    "print(\"The median length of positive review:\")\n",
    "print(np.median(pos_reviews['review_len']))\n",
    "print(\"The mode length of positive review:\")\n",
    "print(stats.mode(pos_reviews['review_len']))"
   ]
  },
  {
   "cell_type": "code",
   "execution_count": 37,
   "metadata": {},
   "outputs": [
    {
     "data": {
      "image/png": "[encoded data removed]",
      "text/plain": [
       "<Figure size 432x288 with 1 Axes>"
      ]
     },
     "metadata": {
      "needs_background": "light"
     },
     "output_type": "display_data"
    }
   ],
   "source": [
    "%matplotlib inline\n",
    "import matplotlib.pyplot as plt\n",
    "\n",
    "plt.hist(pos_reviews['review_len'], 100)\n",
    "plt.show()"
   ]
  },
  {
   "cell_type": "code",
   "execution_count": 38,
   "metadata": {},
   "outputs": [
    {
     "name": "stdout",
     "output_type": "stream",
     "text": [
      "The average length of negative review:\n",
      "11.886\n",
      "The median length of negative review:\n",
      "10.0\n",
      "The mode length of negative review:\n",
      "ModeResult(mode=array([4], dtype=int64), count=array([100]))\n"
     ]
    }
   ],
   "source": [
    "from scipy import stats\n",
    "\n",
    "print(\"The average length of negative review:\")\n",
    "print(np.mean(neg_reviews['review_len']))\n",
    "print(\"The median length of negative review:\")\n",
    "print(np.median(neg_reviews['review_len']))\n",
    "print(\"The mode length of negative review:\")\n",
    "print(stats.mode(neg_reviews['review_len']))"
   ]
  },
  {
   "cell_type": "code",
   "execution_count": 39,
   "metadata": {},
   "outputs": [
    {
     "data": {
      "image/png": "[encoded data removed]",
      "text/plain": [
       "<Figure size 432x288 with 1 Axes>"
      ]
     },
     "metadata": {
      "needs_background": "light"
     },
     "output_type": "display_data"
    }
   ],
   "source": [
    "plt.hist(neg_reviews['review_len'], 100)\n",
    "plt.show()"
   ]
  },
  {
   "cell_type": "markdown",
   "metadata": {},
   "source": [
    "Interpretation of the data:\n",
    "\n",
    "Both positive and negative reviews' distrbution are right skewed. If I want to calculate the difference between the two using Z Statisitc, I will need to satisfy 4 conditions:\n",
    "    1. Data is continuous\n",
    "\t\ti. is data mimics continuous data, it will have some accuracy\n",
    "\t2. Both data distributions have to be normal\n",
    "\t3. The data sample is random\n",
    "\t4. The population std. deviation cannot be known\n",
    "\t\ti. cannot know the lengths of all reviews ever written\n",
    "\n",
    "As of now, we only satisfy the last two criteria.\n",
    "    1. We can take the log of these values, which is maps to continuous data. It should also be distirbuted normally (will need to verify by guaranteeing that the median is around the 50% mark)\n",
    "    \n",
    "I will also normalize the scale between 0 and 1 for simplificiation."
   ]
  },
  {
   "cell_type": "code",
   "execution_count": 42,
   "metadata": {},
   "outputs": [
    {
     "data": {
      "text/plain": [
       "count    1500.000000\n",
       "mean        0.153962\n",
       "std         0.116292\n",
       "min         0.000000\n",
       "25%         0.071429\n",
       "50%         0.128571\n",
       "75%         0.214286\n",
       "max         1.000000\n",
       "Name: review_len, dtype: float64"
      ]
     },
     "execution_count": 42,
     "metadata": {},
     "output_type": "execute_result"
    }
   ],
   "source": [
    "def normalize_len(rev_len):\n",
    "    maximum = rev_len.max()\n",
    "    minimum = rev_len.min()\n",
    "    normalized_y = (rev_len - minimum)/(maximum-minimum)\n",
    "    return normalized_y"
   ]
  },
  {
   "cell_type": "code",
   "execution_count": 45,
   "metadata": {},
   "outputs": [
    {
     "data": {
      "text/plain": [
       "count    1500.000000\n",
       "mean        0.523012\n",
       "std         0.168714\n",
       "min         0.000000\n",
       "25%         0.420336\n",
       "50%         0.540173\n",
       "75%         0.650433\n",
       "max         1.000000\n",
       "Name: review_len, dtype: float64"
      ]
     },
     "execution_count": 45,
     "metadata": {},
     "output_type": "execute_result"
    }
   ],
   "source": [
    "pos_log = np.log(pos_reviews['review_len'])\n",
    "pos_normalized = normalize_len(pos_log)\n",
    "pos_normalized.describe()"
   ]
  },
  {
   "cell_type": "code",
   "execution_count": 47,
   "metadata": {},
   "outputs": [
    {
     "data": {
      "image/png": "[encoded data removed]",
      "text/plain": [
       "<Figure size 432x288 with 1 Axes>"
      ]
     },
     "metadata": {
      "needs_background": "light"
     },
     "output_type": "display_data"
    }
   ],
   "source": [
    "plt.hist(pos_normalized, 100)\n",
    "plt.show()"
   ]
  },
  {
   "cell_type": "code",
   "execution_count": 48,
   "metadata": {},
   "outputs": [
    {
     "data": {
      "text/plain": [
       "count    1500.000000\n",
       "mean        0.561073\n",
       "std         0.172764\n",
       "min         0.000000\n",
       "25%         0.445119\n",
       "50%         0.572021\n",
       "75%         0.688782\n",
       "max         1.000000\n",
       "Name: review_len, dtype: float64"
      ]
     },
     "execution_count": 48,
     "metadata": {},
     "output_type": "execute_result"
    }
   ],
   "source": [
    "neg_log = np.log(neg_reviews['review_len'])\n",
    "neg_normalized = normalize_len(neg_log)\n",
    "neg_normalized.describe()"
   ]
  },
  {
   "cell_type": "code",
   "execution_count": 49,
   "metadata": {},
   "outputs": [
    {
     "data": {
      "image/png": "[encoded data removed]",
      "text/plain": [
       "<Figure size 432x288 with 1 Axes>"
      ]
     },
     "metadata": {
      "needs_background": "light"
     },
     "output_type": "display_data"
    }
   ],
   "source": [
    "plt.hist(neg_normalized, 100)\n",
    "plt.show()"
   ]
  },
  {
   "cell_type": "markdown",
   "metadata": {},
   "source": [
    "Both the distributions are normal, with both medians and modes near the 50% mark.\n",
    "Let's calcualte the difference!"
   ]
  },
  {
   "cell_type": "markdown",
   "metadata": {},
   "source": [
    "Let's calculate the Confidence Interval for Difference of Means\n",
    "\n",
    "At 95% confidence interval for 2 tail the z-score is 1.96 (http://www.z-table.com/)\n",
    "Let d be the difference between the two datasets\n",
    "\n",
    "Let S be the standard deviation for the population (both sets)\n",
    "Let s1 be the standard deviation for distribution 1\n",
    "Let s2 be the standard deviation for distribution 2\n",
    "Let n be the number of samples for each distribution\n",
    "\n",
    "S = 1.96 * sqrt((s1^2\\n) + (s2^2/n))\n",
    "\n",
    "Null Hypothesis\n",
    "H0: d == 0\n",
    "H0: -S <= d <= S\n",
    "(There is no difference)\n",
    "\n",
    "Alternatve Hypothese\n",
    "H1: d != 0 \n",
    "H0: -S > d > S\n",
    "(There is a difference)\n",
    "\n",
    "\n",
    "If the null hypothesis is true, then that means that both positive and negative distributions are from the same population, and the difference in their means is due to random error. So, the population is both distributions combined, and each distribution is a sample of the of that population. If this true, then the difference of their means, should not be outside the range of the population's standard deviation. If it is, then we're 95% sure their difference is significantly different, and therefore may help in determining which review has a positive or negative sentiment for our machine learning algorithm."
   ]
  },
  {
   "cell_type": "code",
   "execution_count": 53,
   "metadata": {},
   "outputs": [
    {
     "name": "stdout",
     "output_type": "stream",
     "text": [
      "Difference of means is -0.03806105445150376\n",
      "Pos std deviation: 0.16865780129287955\n",
      "Neg std deviation: 0.17270637653051318\n",
      "Std of the population is: 0.01221641930655301\n"
     ]
    }
   ],
   "source": [
    "import math\n",
    "\n",
    "d = np.mean(pos_normalized) - np.mean(neg_normalized)\n",
    "print(\"Difference of means is \" + str (d))\n",
    "\n",
    "s1 = np.std(pos_normalized)\n",
    "print(\"Pos std deviation: \" + str(s1))\n",
    "s2 = np.std(neg_normalized)\n",
    "print(\"Neg std deviation: \" + str(s2))\n",
    "\n",
    "n = 1500 #each sample has 1500 samples\n",
    "\n",
    "S = 1.96 * math.sqrt(((s1**2)/n) + ((s2**2)/n))\n",
    "print(\"Std of the population is: \" + str(S))"
   ]
  },
  {
   "cell_type": "code",
   "execution_count": 57,
   "metadata": {},
   "outputs": [
    {
     "name": "stdout",
     "output_type": "stream",
     "text": [
      "-0.01221641930655301 > -0.03806105445150376 < 0.01221641930655301\n",
      "With 95% confidence, the difference of means in outside the population standard deviation, so the difference between them is not due to random variation\n"
     ]
    }
   ],
   "source": [
    "if ((d >= -S) & (d <= S)):\n",
    "    print(str(-S) + \" <= \" + str(d) + \" <= \" + str(S))\n",
    "    print(\"With 95% confidence, the difference of means in within the population standard deviation, \" + \n",
    "          \"so the difference between them is due to random variation\")\n",
    "else:\n",
    "    print(str(-S) + \" > \" + str(d) + \", OR \" + str(d) + \" < \" + str(S))\n",
    "    print(\"With 95% confidence, the difference of means in outside the population standard deviation, \" + \n",
    "          \"so the difference between them is not due to random variation\")"
   ]
  },
  {
   "cell_type": "code",
   "execution_count": null,
   "metadata": {},
   "outputs": [],
   "source": []
  },
  {
   "cell_type": "code",
   "execution_count": null,
   "metadata": {},
   "outputs": [],
   "source": []
  }
 ],
 "metadata": {
  "kernelspec": {
   "display_name": "Python 3",
   "language": "python",
   "name": "python3"
  },
  "language_info": {
   "codemirror_mode": {
    "name": "ipython",
    "version": 3
   },
   "file_extension": ".py",
   "mimetype": "text/x-python",
   "name": "python",
   "nbconvert_exporter": "python",
   "pygments_lexer": "ipython3",
   "version": "3.7.4"
  }
 },
 "nbformat": 4,
 "nbformat_minor": 2
}
